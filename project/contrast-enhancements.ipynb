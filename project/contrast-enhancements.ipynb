{
 "cells": [
  {
   "cell_type": "markdown",
   "id": "c163625a-0c18-4f3b-8671-b9114f6a9c43",
   "metadata": {},
   "source": [
    "# Transformaciones de Contraste"
   ]
  },
  {
   "cell_type": "markdown",
   "id": "103bab12-2e3e-4c4b-98e8-c9517eb8f748",
   "metadata": {},
   "source": [
    "Se realizan mejoras en el constraste de la imágenes del conjunto de datos para intentar mejorar el rendimiento de clasificación de un modelo de red neuronal ResNet50, utilizado para la clasificación de los aguacates en las diferentes fases de maduración."
   ]
  },
  {
   "cell_type": "code",
   "execution_count": null,
   "id": "d6018477-0d30-4198-9ffb-99c1b949941d",
   "metadata": {},
   "outputs": [],
   "source": []
  }
 ],
 "metadata": {
  "kernelspec": {
   "display_name": "Python 3 (ipykernel)",
   "language": "python",
   "name": "python3"
  },
  "language_info": {
   "codemirror_mode": {
    "name": "ipython",
    "version": 3
   },
   "file_extension": ".py",
   "mimetype": "text/x-python",
   "name": "python",
   "nbconvert_exporter": "python",
   "pygments_lexer": "ipython3",
   "version": "3.11.2"
  }
 },
 "nbformat": 4,
 "nbformat_minor": 5
}
