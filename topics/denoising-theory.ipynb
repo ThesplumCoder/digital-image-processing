{
 "cells": [
  {
   "cell_type": "markdown",
   "id": "7ad7c290-dfd6-4dcb-8297-175c54368f8c",
   "metadata": {},
   "source": [
    "# Degradation and Noise"
   ]
  },
  {
   "cell_type": "markdown",
   "id": "9e1b2dd3-44f9-4c2a-89a7-0600c6a2d53f",
   "metadata": {},
   "source": [
    "With an real scenario, the signal is affected for degradation and noise. The final result is different to original signal."
   ]
  },
  {
   "cell_type": "markdown",
   "id": "723c0351-a880-45dd-9488-788bd468a89a",
   "metadata": {},
   "source": [
    "$$\n",
    "\\begin{alignat}{1}\n",
    "g(x,y) &= \\underbrace{f(x,y)}_{original\\ input} \\ast \\underbrace{h(x,y)}_{degradation} + \\underbrace{\\eta(x,y)}_{noise} \\\\\n",
    "G(u,v) &= F(u,v) \\underbrace{H(u,v)}_{PSF} + N(u,v)\n",
    "\\end{alignat}\n",
    "$$"
   ]
  },
  {
   "cell_type": "markdown",
   "id": "bc27e822-e7fa-4151-899e-2a9860dd0602",
   "metadata": {},
   "source": [
    "## Denoising"
   ]
  },
  {
   "cell_type": "markdown",
   "id": "72af2acf-213d-4d45-97ec-cc5d090aeed2",
   "metadata": {},
   "source": [
    "If not consider the degradation, the system results in:\n",
    "$$\n",
    "\\begin{gather}\n",
    "g(x,y) = f(x,y) + \\eta(x,y) \\\\\n",
    "\\boxed{f(x,y) = g(x,y) - \\eta(x,y)}\n",
    "\\end{gather}\n",
    "$$"
   ]
  },
  {
   "cell_type": "markdown",
   "id": "c57064d4-55e8-4c26-a6c7-22193da2cf0f",
   "metadata": {},
   "source": [
    "The challenge is knows the noise. An aproximation is take the homogeneous sections of image and observe the histogram.\n",
    "$$\n",
    "\\begin{gather}\n",
    "\\bar{z} = \\sum_{i=0}^{L-1} z_i Ps(z_i) \\\\\n",
    "\\sigma^2 = \\sum_{i=0}^{L-1} (z_i - \\bar{z})^2 Ps(z_i)\n",
    "\\end{gather}\n",
    "$$"
   ]
  },
  {
   "cell_type": "markdown",
   "id": "dd8985f5-797c-4704-a035-1ff2ee24febf",
   "metadata": {},
   "source": [
    "Other aproach is generate an aproximation to $f$ for compute the noise. The aproximation is $\\hat{f}$ and the equation is:\n",
    "$$\n",
    "\\begin{alignat}{1}\n",
    "g(x,y) - \\hat{f}(x,y) &= \\eta (x,y) \\\\\n",
    "\\hat{f}(x,y) &= g(x,y) \\ast \\underbrace{k(x,y)}_{filter}\n",
    "\\end{alignat}\n",
    "$$"
   ]
  },
  {
   "cell_type": "markdown",
   "id": "4e986e48-9299-43e7-9011-3c0ce7d6e5a7",
   "metadata": {},
   "source": [
    "### Denoising through spatial filters"
   ]
  },
  {
   "cell_type": "markdown",
   "id": "ac9a657c-423d-457e-bc70-d3927e538347",
   "metadata": {},
   "source": [
    "In this category ther are **Adaptive Filters**. The **Adaptive Filter for Local Noise** is:\n",
    "$$\n",
    "\\begin{alignat}{1}\n",
    "\\hat{f}(x,y) &= g(x,y) - \\frac{\\sigma_{\\eta}^2}{\\sigma_{Sxy}^2} \\Big[ g(x,y) - \\bar{Z}_{Sxy} \\Big] \\\\\n",
    "\\sigma_{\\eta}^2 &= variance\\ g(x,y) \\\\\n",
    "\\sigma_{Sxy}^2 &= variance\\ of\\ patch\\ S_{xy} \\\\\n",
    "\\bar{Z}_{Sxy} &= mean\\ of\\ patch\n",
    "\\end{alignat}\n",
    "$$"
   ]
  },
  {
   "cell_type": "markdown",
   "id": "8e86171c-831a-43e9-8a19-9b83f0e3965f",
   "metadata": {},
   "source": [
    "The **Adaptive Filter of Median** is an algorithm."
   ]
  },
  {
   "cell_type": "code",
   "execution_count": null,
   "id": "71deda65-0256-45f0-b171-1eec2cc001ed",
   "metadata": {},
   "outputs": [],
   "source": []
  }
 ],
 "metadata": {
  "kernelspec": {
   "display_name": "Python 3 (ipykernel)",
   "language": "python",
   "name": "python3"
  },
  "language_info": {
   "codemirror_mode": {
    "name": "ipython",
    "version": 3
   },
   "file_extension": ".py",
   "mimetype": "text/x-python",
   "name": "python",
   "nbconvert_exporter": "python",
   "pygments_lexer": "ipython3",
   "version": "3.11.2"
  }
 },
 "nbformat": 4,
 "nbformat_minor": 5
}
